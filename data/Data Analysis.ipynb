{
 "cells": [
  {
   "cell_type": "markdown",
   "metadata": {},
   "source": [
    "# Wikimedia dataset analysis and preprocessing"
   ]
  },
  {
   "cell_type": "code",
   "execution_count": 1,
   "metadata": {},
   "outputs": [],
   "source": [
    "import matplotlib.pyplot as plt\n",
    "import numpy as np\n",
    "import pandas as pd\n",
    "import seaborn as sns\n",
    "%config InlineBackend.figure_format = 'retina'"
   ]
  },
  {
   "cell_type": "code",
   "execution_count": 2,
   "metadata": {},
   "outputs": [
    {
     "data": {
      "text/html": [
       "<div>\n",
       "<style scoped>\n",
       "    .dataframe tbody tr th:only-of-type {\n",
       "        vertical-align: middle;\n",
       "    }\n",
       "\n",
       "    .dataframe tbody tr th {\n",
       "        vertical-align: top;\n",
       "    }\n",
       "\n",
       "    .dataframe thead th {\n",
       "        text-align: right;\n",
       "    }\n",
       "</style>\n",
       "<table border=\"1\" class=\"dataframe\">\n",
       "  <thead>\n",
       "    <tr style=\"text-align: right;\">\n",
       "      <th></th>\n",
       "      <th>user</th>\n",
       "      <th>image_id</th>\n",
       "      <th>timestamp</th>\n",
       "    </tr>\n",
       "  </thead>\n",
       "  <tbody>\n",
       "    <tr>\n",
       "      <th>0</th>\n",
       "      <td>1</td>\n",
       "      <td>200502005</td>\n",
       "      <td>1108503300</td>\n",
       "    </tr>\n",
       "    <tr>\n",
       "      <th>1</th>\n",
       "      <td>1</td>\n",
       "      <td>200504028</td>\n",
       "      <td>1113243060</td>\n",
       "    </tr>\n",
       "    <tr>\n",
       "      <th>2</th>\n",
       "      <td>1</td>\n",
       "      <td>200504029</td>\n",
       "      <td>1113243060</td>\n",
       "    </tr>\n",
       "    <tr>\n",
       "      <th>3</th>\n",
       "      <td>1</td>\n",
       "      <td>200504034</td>\n",
       "      <td>1113246480</td>\n",
       "    </tr>\n",
       "    <tr>\n",
       "      <th>4</th>\n",
       "      <td>1</td>\n",
       "      <td>200504035</td>\n",
       "      <td>1113246600</td>\n",
       "    </tr>\n",
       "  </tbody>\n",
       "</table>\n",
       "</div>"
      ],
      "text/plain": [
       "   user   image_id   timestamp\n",
       "0     1  200502005  1108503300\n",
       "1     1  200504028  1113243060\n",
       "2     1  200504029  1113243060\n",
       "3     1  200504034  1113246480\n",
       "4     1  200504035  1113246600"
      ]
     },
     "execution_count": 2,
     "metadata": {},
     "output_type": "execute_result"
    }
   ],
   "source": [
    "# Load data\n",
    "data = pd.read_csv(\"train_tarea_recsys_2019.csv\")\n",
    "data.head()"
   ]
  },
  {
   "cell_type": "markdown",
   "metadata": {},
   "source": [
    "## Interactions data"
   ]
  },
  {
   "cell_type": "code",
   "execution_count": 3,
   "metadata": {},
   "outputs": [
    {
     "name": "stdout",
     "output_type": "stream",
     "text": [
      "Interactions shape (96533, 3)\n"
     ]
    }
   ],
   "source": [
    "print(\"Interactions shape\", data.shape)"
   ]
  },
  {
   "cell_type": "markdown",
   "metadata": {},
   "source": [
    "There are 96533 rows in the data file, where only possitive feedback is considered. But first, some user-item interactions are repeated, and we'll consider only the last one."
   ]
  },
  {
   "cell_type": "code",
   "execution_count": 4,
   "metadata": {},
   "outputs": [],
   "source": [
    "# Sort by timestamp\n",
    "data = data.sort_values(by=\"timestamp\", ascending=True)"
   ]
  },
  {
   "cell_type": "code",
   "execution_count": 5,
   "metadata": {},
   "outputs": [],
   "source": [
    "# Keep latest interaction between user-item pairs\n",
    "data = data.groupby([\"user\", \"image_id\"]).tail(1).reset_index(drop=True)"
   ]
  },
  {
   "cell_type": "code",
   "execution_count": 6,
   "metadata": {},
   "outputs": [
    {
     "name": "stdout",
     "output_type": "stream",
     "text": [
      "Interactions shape (95922, 3)\n"
     ]
    }
   ],
   "source": [
    "print(\"Interactions shape\", data.shape)"
   ]
  },
  {
   "cell_type": "code",
   "execution_count": 7,
   "metadata": {},
   "outputs": [
    {
     "name": "stdout",
     "output_type": "stream",
     "text": [
      "<class 'pandas.core.frame.DataFrame'>\n",
      "RangeIndex: 95922 entries, 0 to 95921\n",
      "Data columns (total 3 columns):\n",
      " #   Column     Non-Null Count  Dtype\n",
      "---  ------     --------------  -----\n",
      " 0   user       95922 non-null  int64\n",
      " 1   image_id   95922 non-null  int64\n",
      " 2   timestamp  95922 non-null  int64\n",
      "dtypes: int64(3)\n",
      "memory usage: 2.2 MB\n"
     ]
    }
   ],
   "source": [
    "data.info()"
   ]
  },
  {
   "cell_type": "code",
   "execution_count": 8,
   "metadata": {},
   "outputs": [
    {
     "data": {
      "text/html": [
       "<div>\n",
       "<style scoped>\n",
       "    .dataframe tbody tr th:only-of-type {\n",
       "        vertical-align: middle;\n",
       "    }\n",
       "\n",
       "    .dataframe tbody tr th {\n",
       "        vertical-align: top;\n",
       "    }\n",
       "\n",
       "    .dataframe thead th {\n",
       "        text-align: right;\n",
       "    }\n",
       "</style>\n",
       "<table border=\"1\" class=\"dataframe\">\n",
       "  <thead>\n",
       "    <tr style=\"text-align: right;\">\n",
       "      <th></th>\n",
       "      <th>user</th>\n",
       "      <th>image_id</th>\n",
       "      <th>timestamp</th>\n",
       "    </tr>\n",
       "  </thead>\n",
       "  <tbody>\n",
       "    <tr>\n",
       "      <th>0</th>\n",
       "      <td>30</td>\n",
       "      <td>200501002</td>\n",
       "      <td>1105490700</td>\n",
       "    </tr>\n",
       "    <tr>\n",
       "      <th>1</th>\n",
       "      <td>12</td>\n",
       "      <td>200501002</td>\n",
       "      <td>1105521180</td>\n",
       "    </tr>\n",
       "    <tr>\n",
       "      <th>2</th>\n",
       "      <td>31</td>\n",
       "      <td>200501002</td>\n",
       "      <td>1105568700</td>\n",
       "    </tr>\n",
       "    <tr>\n",
       "      <th>3</th>\n",
       "      <td>6</td>\n",
       "      <td>200501002</td>\n",
       "      <td>1105646820</td>\n",
       "    </tr>\n",
       "    <tr>\n",
       "      <th>4</th>\n",
       "      <td>14</td>\n",
       "      <td>200501002</td>\n",
       "      <td>1105738260</td>\n",
       "    </tr>\n",
       "  </tbody>\n",
       "</table>\n",
       "</div>"
      ],
      "text/plain": [
       "   user   image_id   timestamp\n",
       "0    30  200501002  1105490700\n",
       "1    12  200501002  1105521180\n",
       "2    31  200501002  1105568700\n",
       "3     6  200501002  1105646820\n",
       "4    14  200501002  1105738260"
      ]
     },
     "execution_count": 8,
     "metadata": {},
     "output_type": "execute_result"
    }
   ],
   "source": [
    "data.head()"
   ]
  },
  {
   "cell_type": "code",
   "execution_count": 9,
   "metadata": {},
   "outputs": [
    {
     "data": {
      "text/html": [
       "<div>\n",
       "<style scoped>\n",
       "    .dataframe tbody tr th:only-of-type {\n",
       "        vertical-align: middle;\n",
       "    }\n",
       "\n",
       "    .dataframe tbody tr th {\n",
       "        vertical-align: top;\n",
       "    }\n",
       "\n",
       "    .dataframe thead th {\n",
       "        text-align: right;\n",
       "    }\n",
       "</style>\n",
       "<table border=\"1\" class=\"dataframe\">\n",
       "  <thead>\n",
       "    <tr style=\"text-align: right;\">\n",
       "      <th></th>\n",
       "      <th>user</th>\n",
       "      <th>image_id</th>\n",
       "      <th>timestamp</th>\n",
       "    </tr>\n",
       "  </thead>\n",
       "  <tbody>\n",
       "    <tr>\n",
       "      <th>count</th>\n",
       "      <td>95922.000000</td>\n",
       "      <td>9.592200e+04</td>\n",
       "      <td>9.592200e+04</td>\n",
       "    </tr>\n",
       "    <tr>\n",
       "      <th>mean</th>\n",
       "      <td>3470.641667</td>\n",
       "      <td>2.013686e+08</td>\n",
       "      <td>1.391965e+09</td>\n",
       "    </tr>\n",
       "    <tr>\n",
       "      <th>std</th>\n",
       "      <td>2045.785655</td>\n",
       "      <td>3.682406e+05</td>\n",
       "      <td>1.162497e+08</td>\n",
       "    </tr>\n",
       "    <tr>\n",
       "      <th>min</th>\n",
       "      <td>1.000000</td>\n",
       "      <td>2.005010e+08</td>\n",
       "      <td>1.105491e+09</td>\n",
       "    </tr>\n",
       "    <tr>\n",
       "      <th>25%</th>\n",
       "      <td>1736.000000</td>\n",
       "      <td>2.011050e+08</td>\n",
       "      <td>1.303837e+09</td>\n",
       "    </tr>\n",
       "    <tr>\n",
       "      <th>50%</th>\n",
       "      <td>3714.000000</td>\n",
       "      <td>2.015030e+08</td>\n",
       "      <td>1.424783e+09</td>\n",
       "    </tr>\n",
       "    <tr>\n",
       "      <th>75%</th>\n",
       "      <td>5049.000000</td>\n",
       "      <td>2.017012e+08</td>\n",
       "      <td>1.485018e+09</td>\n",
       "    </tr>\n",
       "    <tr>\n",
       "      <th>max</th>\n",
       "      <td>7395.000000</td>\n",
       "      <td>2.019042e+08</td>\n",
       "      <td>1.556338e+09</td>\n",
       "    </tr>\n",
       "  </tbody>\n",
       "</table>\n",
       "</div>"
      ],
      "text/plain": [
       "               user      image_id     timestamp\n",
       "count  95922.000000  9.592200e+04  9.592200e+04\n",
       "mean    3470.641667  2.013686e+08  1.391965e+09\n",
       "std     2045.785655  3.682406e+05  1.162497e+08\n",
       "min        1.000000  2.005010e+08  1.105491e+09\n",
       "25%     1736.000000  2.011050e+08  1.303837e+09\n",
       "50%     3714.000000  2.015030e+08  1.424783e+09\n",
       "75%     5049.000000  2.017012e+08  1.485018e+09\n",
       "max     7395.000000  2.019042e+08  1.556338e+09"
      ]
     },
     "execution_count": 9,
     "metadata": {},
     "output_type": "execute_result"
    }
   ],
   "source": [
    "data.describe()"
   ]
  },
  {
   "cell_type": "markdown",
   "metadata": {},
   "source": [
    "Sort and reset index. Also drop score column."
   ]
  },
  {
   "cell_type": "code",
   "execution_count": 10,
   "metadata": {},
   "outputs": [
    {
     "data": {
      "text/html": [
       "<div>\n",
       "<style scoped>\n",
       "    .dataframe tbody tr th:only-of-type {\n",
       "        vertical-align: middle;\n",
       "    }\n",
       "\n",
       "    .dataframe tbody tr th {\n",
       "        vertical-align: top;\n",
       "    }\n",
       "\n",
       "    .dataframe thead th {\n",
       "        text-align: right;\n",
       "    }\n",
       "</style>\n",
       "<table border=\"1\" class=\"dataframe\">\n",
       "  <thead>\n",
       "    <tr style=\"text-align: right;\">\n",
       "      <th></th>\n",
       "      <th>user</th>\n",
       "      <th>image_id</th>\n",
       "      <th>timestamp</th>\n",
       "    </tr>\n",
       "  </thead>\n",
       "  <tbody>\n",
       "    <tr>\n",
       "      <th>0</th>\n",
       "      <td>30</td>\n",
       "      <td>200501002</td>\n",
       "      <td>1105490700</td>\n",
       "    </tr>\n",
       "    <tr>\n",
       "      <th>1</th>\n",
       "      <td>12</td>\n",
       "      <td>200501002</td>\n",
       "      <td>1105521180</td>\n",
       "    </tr>\n",
       "    <tr>\n",
       "      <th>2</th>\n",
       "      <td>31</td>\n",
       "      <td>200501002</td>\n",
       "      <td>1105568700</td>\n",
       "    </tr>\n",
       "    <tr>\n",
       "      <th>3</th>\n",
       "      <td>6</td>\n",
       "      <td>200501002</td>\n",
       "      <td>1105646820</td>\n",
       "    </tr>\n",
       "    <tr>\n",
       "      <th>4</th>\n",
       "      <td>14</td>\n",
       "      <td>200501002</td>\n",
       "      <td>1105738260</td>\n",
       "    </tr>\n",
       "  </tbody>\n",
       "</table>\n",
       "</div>"
      ],
      "text/plain": [
       "   user   image_id   timestamp\n",
       "0    30  200501002  1105490700\n",
       "1    12  200501002  1105521180\n",
       "2    31  200501002  1105568700\n",
       "3     6  200501002  1105646820\n",
       "4    14  200501002  1105738260"
      ]
     },
     "execution_count": 10,
     "metadata": {},
     "output_type": "execute_result"
    }
   ],
   "source": [
    "data = data.sort_values(by=\"timestamp\", ascending=True)\n",
    "# data = data.drop([\"score\"], axis=1)\n",
    "data = data.reset_index(drop=True)\n",
    "data.head()"
   ]
  },
  {
   "cell_type": "markdown",
   "metadata": {},
   "source": [
    "**How many users and items left?** Some may have been dropped, so let's count again:"
   ]
  },
  {
   "cell_type": "code",
   "execution_count": 11,
   "metadata": {},
   "outputs": [
    {
     "name": "stdout",
     "output_type": "stream",
     "text": [
      "Users: 1079\n",
      "Items: 9636\n"
     ]
    }
   ],
   "source": [
    "print(\"Users:\", data[\"user\"].nunique())\n",
    "print(\"Items:\", data[\"image_id\"].nunique())"
   ]
  },
  {
   "cell_type": "markdown",
   "metadata": {},
   "source": [
    "**Maximum number of interactions at the same time?** Sometimes this happens"
   ]
  },
  {
   "cell_type": "code",
   "execution_count": 12,
   "metadata": {},
   "outputs": [
    {
     "data": {
      "text/plain": [
       "user        21\n",
       "image_id    21\n",
       "dtype: int64"
      ]
     },
     "execution_count": 12,
     "metadata": {},
     "output_type": "execute_result"
    }
   ],
   "source": [
    "# No idea how (or why)\n",
    "data.groupby([\"timestamp\"]).count().max()"
   ]
  },
  {
   "cell_type": "markdown",
   "metadata": {},
   "source": [
    "**Number of interactions per item?**"
   ]
  },
  {
   "cell_type": "code",
   "execution_count": 13,
   "metadata": {},
   "outputs": [
    {
     "data": {
      "text/plain": [
       "count    9636.000000\n",
       "mean        9.954545\n",
       "std         4.338889\n",
       "min         2.000000\n",
       "25%         7.000000\n",
       "50%         9.000000\n",
       "75%        12.000000\n",
       "max        34.000000\n",
       "Name: user, dtype: float64"
      ]
     },
     "execution_count": 13,
     "metadata": {},
     "output_type": "execute_result"
    }
   ],
   "source": [
    "items = data.groupby([\"image_id\"]).count()[\"user\"]\n",
    "items.describe()"
   ]
  },
  {
   "cell_type": "markdown",
   "metadata": {},
   "source": [
    "**Most active items?**"
   ]
  },
  {
   "cell_type": "code",
   "execution_count": 14,
   "metadata": {},
   "outputs": [
    {
     "data": {
      "text/plain": [
       "image_id\n",
       "201707149    34\n",
       "201812099    30\n",
       "201901175    30\n",
       "201804142    30\n",
       "201204203    30\n",
       "Name: user, dtype: int64"
      ]
     },
     "execution_count": 14,
     "metadata": {},
     "output_type": "execute_result"
    }
   ],
   "source": [
    "most_active_items = items.sort_values(ascending=False)\n",
    "most_active_items.head()"
   ]
  },
  {
   "cell_type": "code",
   "execution_count": 15,
   "metadata": {},
   "outputs": [
    {
     "name": "stdout",
     "output_type": "stream",
     "text": [
      "19.29 % of interactions comes from the top 964 most active items\n"
     ]
    }
   ],
   "source": [
    "N = 964  # 10%\n",
    "interactions_by_active_items = most_active_items[:N].sum() / items.sum() * 100\n",
    "print(f\"{interactions_by_active_items:.2f} % of interactions comes from the top {N} most active items\")"
   ]
  },
  {
   "cell_type": "code",
   "execution_count": 16,
   "metadata": {},
   "outputs": [
    {
     "data": {
      "image/png": "[encoded data removed]",
      "text/plain": [
       "<Figure size 432x288 with 1 Axes>"
      ]
     },
     "metadata": {
      "image/png": {
       "height": 249,
       "width": 388
      },
      "needs_background": "light"
     },
     "output_type": "display_data"
    }
   ],
   "source": [
    "sorted_data = np.sort(most_active_items)\n",
    "plt.step(sorted_data, np.arange(sorted_data.size))\n",
    "plt.show()"
   ]
  },
  {
   "cell_type": "code",
   "execution_count": 17,
   "metadata": {},
   "outputs": [
    {
     "data": {
      "image/png": "[encoded data removed]",
      "text/plain": [
       "<Figure size 432x288 with 1 Axes>"
      ]
     },
     "metadata": {
      "image/png": {
       "height": 311,
       "width": 395
      },
      "needs_background": "light"
     },
     "output_type": "display_data"
    }
   ],
   "source": [
    "bins = list(range(1, 30)) + [items.max()]\n",
    "\n",
    "hist, bins = np.histogram(items, bins)\n",
    "x_axis = np.arange(0, len(hist))\n",
    "plt.bar(x_axis, hist)\n",
    "bin_names = [f\"[{bins[i]} - {bins[i+1]})\" for i in range(len(hist))]\n",
    "plt.xticks(x_axis, bin_names, rotation=90)\n",
    "\n",
    "# Title and labels\n",
    "plt.title(\"Interactions per item\")\n",
    "plt.xlabel(\"# interactions\")\n",
    "plt.ylabel(\"# items\")\n",
    "plt.show()"
   ]
  },
  {
   "cell_type": "markdown",
   "metadata": {},
   "source": [
    "**Number of interactions per user?**"
   ]
  },
  {
   "cell_type": "code",
   "execution_count": 18,
   "metadata": {},
   "outputs": [
    {
     "data": {
      "text/plain": [
       "count    1079.000000\n",
       "mean       88.898981\n",
       "std       259.067935\n",
       "min         3.000000\n",
       "25%         7.000000\n",
       "50%        15.000000\n",
       "75%        52.000000\n",
       "max      3543.000000\n",
       "Name: image_id, dtype: float64"
      ]
     },
     "execution_count": 18,
     "metadata": {},
     "output_type": "execute_result"
    }
   ],
   "source": [
    "users = data.groupby([\"user\"]).count()[\"image_id\"]\n",
    "users.describe()"
   ]
  },
  {
   "cell_type": "markdown",
   "metadata": {},
   "source": [
    "**Most active users?**"
   ]
  },
  {
   "cell_type": "code",
   "execution_count": 19,
   "metadata": {},
   "outputs": [
    {
     "data": {
      "text/plain": [
       "user\n",
       "2524    3543\n",
       "4605    3005\n",
       "2133    2608\n",
       "5907    2251\n",
       "5607    1970\n",
       "Name: image_id, dtype: int64"
      ]
     },
     "execution_count": 19,
     "metadata": {},
     "output_type": "execute_result"
    }
   ],
   "source": [
    "most_active_users = users.sort_values(ascending=False)\n",
    "most_active_users.head()"
   ]
  },
  {
   "cell_type": "code",
   "execution_count": 20,
   "metadata": {},
   "outputs": [
    {
     "name": "stdout",
     "output_type": "stream",
     "text": [
      "70.53 % of interactions comes from the top 108 most active users\n"
     ]
    }
   ],
   "source": [
    "N = 108  # 10%\n",
    "interactions_by_active_users = most_active_users[:N].sum() / users.sum() * 100\n",
    "print(f\"{interactions_by_active_users:.2f} % of interactions comes from the top {N} most active users\")"
   ]
  },
  {
   "cell_type": "code",
   "execution_count": 21,
   "metadata": {},
   "outputs": [
    {
     "data": {
      "image/png": "[encoded data removed]",
      "text/plain": [
       "<Figure size 432x288 with 1 Axes>"
      ]
     },
     "metadata": {
      "image/png": {
       "height": 248,
       "width": 381
      },
      "needs_background": "light"
     },
     "output_type": "display_data"
    }
   ],
   "source": [
    "sorted_data = np.sort(most_active_users)\n",
    "plt.step(sorted_data, np.arange(sorted_data.size))\n",
    "plt.show()"
   ]
  },
  {
   "cell_type": "code",
   "execution_count": 22,
   "metadata": {},
   "outputs": [
    {
     "data": {
      "image/png": "[encoded data removed]",
      "text/plain": [
       "<Figure size 432x288 with 1 Axes>"
      ]
     },
     "metadata": {
      "image/png": {
       "height": 330,
       "width": 388
      },
      "needs_background": "light"
     },
     "output_type": "display_data"
    }
   ],
   "source": [
    "bins = (\n",
    "    list(range(1, 10))\n",
    "    + [10*i for i in range(1, 10)]\n",
    "    + [100*i for i in range(1, 10)]\n",
    "    + [users.max()]\n",
    ")\n",
    "\n",
    "hist, bins = np.histogram(users, bins)\n",
    "x_axis = np.arange(0, len(hist))\n",
    "plt.bar(x_axis, hist)\n",
    "bin_names = [f\"[{bins[i]} - {bins[i+1]})\" for i in range(len(hist))]\n",
    "plt.xticks(x_axis, bin_names, rotation=90)\n",
    "\n",
    "# Title and labels\n",
    "plt.title(\"Interactions per user\")\n",
    "plt.xlabel(\"# interactions\")\n",
    "plt.ylabel(\"# users\")\n",
    "plt.show()"
   ]
  },
  {
   "cell_type": "markdown",
   "metadata": {},
   "source": [
    "## Output"
   ]
  },
  {
   "cell_type": "code",
   "execution_count": 23,
   "metadata": {},
   "outputs": [
    {
     "name": "stdout",
     "output_type": "stream",
     "text": [
      "Unique users: 1079\n",
      "Unique items: 32958\n",
      "Unique items 'interacted': 9636\n",
      "Interactions per user: 88.89898053753475 +/- 259.0679347099485\n",
      "Interactions per item: 2.910431458219552 +/- 8.273061391395128\n",
      "Interactions per 'interacted' item: 9.954545454545455 +/- 4.338888855833803\n",
      "Possible interactions: 35561682\n",
      "Sparsity: 0.269734%\n"
     ]
    }
   ],
   "source": [
    "n_users = data[\"user\"].nunique()\n",
    "n_items = data[\"image_id\"].nunique()\n",
    "n_items_gt = 32958\n",
    "print(f\"Unique users: {n_users}\")\n",
    "print(f\"Unique items: {n_items_gt}\")\n",
    "print(f\"Unique items 'interacted': {n_items}\")\n",
    "print(f\"Interactions per user: {users.mean()} +/- {users.std()}\")\n",
    "actual_mean = items.sum() / n_items_gt\n",
    "actual_std = np.sqrt(np.mean(np.abs(items - actual_mean)**2))\n",
    "print(f\"Interactions per item: {actual_mean} +/- {actual_std}\") \n",
    "print(f\"Interactions per 'interacted' item: {items.mean()} +/- {items.std()}\")\n",
    "possible_interactions = n_users * n_items_gt\n",
    "print(f\"Possible interactions: {possible_interactions}\")\n",
    "print(f\"Sparsity: {100 * len(data) / possible_interactions:2f}%\")"
   ]
  },
  {
   "cell_type": "code",
   "execution_count": 24,
   "metadata": {},
   "outputs": [
    {
     "data": {
      "text/html": [
       "<div>\n",
       "<style scoped>\n",
       "    .dataframe tbody tr th:only-of-type {\n",
       "        vertical-align: middle;\n",
       "    }\n",
       "\n",
       "    .dataframe tbody tr th {\n",
       "        vertical-align: top;\n",
       "    }\n",
       "\n",
       "    .dataframe thead th {\n",
       "        text-align: right;\n",
       "    }\n",
       "</style>\n",
       "<table border=\"1\" class=\"dataframe\">\n",
       "  <thead>\n",
       "    <tr style=\"text-align: right;\">\n",
       "      <th></th>\n",
       "      <th>user</th>\n",
       "      <th>image_id</th>\n",
       "      <th>timestamp</th>\n",
       "    </tr>\n",
       "  </thead>\n",
       "  <tbody>\n",
       "    <tr>\n",
       "      <th>0</th>\n",
       "      <td>30</td>\n",
       "      <td>200501002</td>\n",
       "      <td>1105490700</td>\n",
       "    </tr>\n",
       "    <tr>\n",
       "      <th>1</th>\n",
       "      <td>12</td>\n",
       "      <td>200501002</td>\n",
       "      <td>1105521180</td>\n",
       "    </tr>\n",
       "    <tr>\n",
       "      <th>2</th>\n",
       "      <td>31</td>\n",
       "      <td>200501002</td>\n",
       "      <td>1105568700</td>\n",
       "    </tr>\n",
       "    <tr>\n",
       "      <th>3</th>\n",
       "      <td>6</td>\n",
       "      <td>200501002</td>\n",
       "      <td>1105646820</td>\n",
       "    </tr>\n",
       "    <tr>\n",
       "      <th>4</th>\n",
       "      <td>14</td>\n",
       "      <td>200501002</td>\n",
       "      <td>1105738260</td>\n",
       "    </tr>\n",
       "    <tr>\n",
       "      <th>...</th>\n",
       "      <td>...</td>\n",
       "      <td>...</td>\n",
       "      <td>...</td>\n",
       "    </tr>\n",
       "    <tr>\n",
       "      <th>95917</th>\n",
       "      <td>6115</td>\n",
       "      <td>201904242</td>\n",
       "      <td>1556273400</td>\n",
       "    </tr>\n",
       "    <tr>\n",
       "      <th>95918</th>\n",
       "      <td>6115</td>\n",
       "      <td>201904235</td>\n",
       "      <td>1556273520</td>\n",
       "    </tr>\n",
       "    <tr>\n",
       "      <th>95919</th>\n",
       "      <td>2738</td>\n",
       "      <td>201904235</td>\n",
       "      <td>1556319360</td>\n",
       "    </tr>\n",
       "    <tr>\n",
       "      <th>95920</th>\n",
       "      <td>2738</td>\n",
       "      <td>201904242</td>\n",
       "      <td>1556319720</td>\n",
       "    </tr>\n",
       "    <tr>\n",
       "      <th>95921</th>\n",
       "      <td>7298</td>\n",
       "      <td>201904241</td>\n",
       "      <td>1556338260</td>\n",
       "    </tr>\n",
       "  </tbody>\n",
       "</table>\n",
       "<p>95922 rows × 3 columns</p>\n",
       "</div>"
      ],
      "text/plain": [
       "       user   image_id   timestamp\n",
       "0        30  200501002  1105490700\n",
       "1        12  200501002  1105521180\n",
       "2        31  200501002  1105568700\n",
       "3         6  200501002  1105646820\n",
       "4        14  200501002  1105738260\n",
       "...     ...        ...         ...\n",
       "95917  6115  201904242  1556273400\n",
       "95918  6115  201904235  1556273520\n",
       "95919  2738  201904235  1556319360\n",
       "95920  2738  201904242  1556319720\n",
       "95921  7298  201904241  1556338260\n",
       "\n",
       "[95922 rows x 3 columns]"
      ]
     },
     "execution_count": 24,
     "metadata": {},
     "output_type": "execute_result"
    }
   ],
   "source": [
    "data"
   ]
  },
  {
   "cell_type": "code",
   "execution_count": 25,
   "metadata": {},
   "outputs": [],
   "source": [
    "data = data.rename(columns={\n",
    "    \"user\": \"user_id\",\n",
    "    \"image_id\": \"item_id\",\n",
    "})\n",
    "data = data[[\"user_id\", \"item_id\", \"timestamp\"]]\n",
    "data = data.sort_values(\"timestamp\")\n",
    "data = data.reset_index(drop=True)"
   ]
  },
  {
   "cell_type": "code",
   "execution_count": 26,
   "metadata": {},
   "outputs": [],
   "source": [
    "data.to_csv(\"wikimedia.csv\", index=False)"
   ]
  },
  {
   "cell_type": "code",
   "execution_count": 27,
   "metadata": {},
   "outputs": [
    {
     "data": {
      "text/html": [
       "<div>\n",
       "<style scoped>\n",
       "    .dataframe tbody tr th:only-of-type {\n",
       "        vertical-align: middle;\n",
       "    }\n",
       "\n",
       "    .dataframe tbody tr th {\n",
       "        vertical-align: top;\n",
       "    }\n",
       "\n",
       "    .dataframe thead th {\n",
       "        text-align: right;\n",
       "    }\n",
       "</style>\n",
       "<table border=\"1\" class=\"dataframe\">\n",
       "  <thead>\n",
       "    <tr style=\"text-align: right;\">\n",
       "      <th></th>\n",
       "      <th>user_id</th>\n",
       "      <th>item_id</th>\n",
       "      <th>timestamp</th>\n",
       "    </tr>\n",
       "  </thead>\n",
       "  <tbody>\n",
       "    <tr>\n",
       "      <th>0</th>\n",
       "      <td>30</td>\n",
       "      <td>200501002</td>\n",
       "      <td>1105490700</td>\n",
       "    </tr>\n",
       "    <tr>\n",
       "      <th>1</th>\n",
       "      <td>12</td>\n",
       "      <td>200501002</td>\n",
       "      <td>1105521180</td>\n",
       "    </tr>\n",
       "    <tr>\n",
       "      <th>2</th>\n",
       "      <td>31</td>\n",
       "      <td>200501002</td>\n",
       "      <td>1105568700</td>\n",
       "    </tr>\n",
       "    <tr>\n",
       "      <th>3</th>\n",
       "      <td>6</td>\n",
       "      <td>200501002</td>\n",
       "      <td>1105646820</td>\n",
       "    </tr>\n",
       "    <tr>\n",
       "      <th>4</th>\n",
       "      <td>14</td>\n",
       "      <td>200501002</td>\n",
       "      <td>1105738260</td>\n",
       "    </tr>\n",
       "    <tr>\n",
       "      <th>...</th>\n",
       "      <td>...</td>\n",
       "      <td>...</td>\n",
       "      <td>...</td>\n",
       "    </tr>\n",
       "    <tr>\n",
       "      <th>95917</th>\n",
       "      <td>6115</td>\n",
       "      <td>201904242</td>\n",
       "      <td>1556273400</td>\n",
       "    </tr>\n",
       "    <tr>\n",
       "      <th>95918</th>\n",
       "      <td>6115</td>\n",
       "      <td>201904235</td>\n",
       "      <td>1556273520</td>\n",
       "    </tr>\n",
       "    <tr>\n",
       "      <th>95919</th>\n",
       "      <td>2738</td>\n",
       "      <td>201904235</td>\n",
       "      <td>1556319360</td>\n",
       "    </tr>\n",
       "    <tr>\n",
       "      <th>95920</th>\n",
       "      <td>2738</td>\n",
       "      <td>201904242</td>\n",
       "      <td>1556319720</td>\n",
       "    </tr>\n",
       "    <tr>\n",
       "      <th>95921</th>\n",
       "      <td>7298</td>\n",
       "      <td>201904241</td>\n",
       "      <td>1556338260</td>\n",
       "    </tr>\n",
       "  </tbody>\n",
       "</table>\n",
       "<p>95922 rows × 3 columns</p>\n",
       "</div>"
      ],
      "text/plain": [
       "       user_id    item_id   timestamp\n",
       "0           30  200501002  1105490700\n",
       "1           12  200501002  1105521180\n",
       "2           31  200501002  1105568700\n",
       "3            6  200501002  1105646820\n",
       "4           14  200501002  1105738260\n",
       "...        ...        ...         ...\n",
       "95917     6115  201904242  1556273400\n",
       "95918     6115  201904235  1556273520\n",
       "95919     2738  201904235  1556319360\n",
       "95920     2738  201904242  1556319720\n",
       "95921     7298  201904241  1556338260\n",
       "\n",
       "[95922 rows x 3 columns]"
      ]
     },
     "execution_count": 27,
     "metadata": {},
     "output_type": "execute_result"
    }
   ],
   "source": [
    "data"
   ]
  }
 ],
 "metadata": {
  "kernelspec": {
   "display_name": "Python 3",
   "language": "python",
   "name": "python3"
  },
  "language_info": {
   "codemirror_mode": {
    "name": "ipython",
    "version": 3
   },
   "file_extension": ".py",
   "mimetype": "text/x-python",
   "name": "python",
   "nbconvert_exporter": "python",
   "pygments_lexer": "ipython3",
   "version": "3.7.10"
  }
 },
 "nbformat": 4,
 "nbformat_minor": 4
}
